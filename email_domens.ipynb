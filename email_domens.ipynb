{
 "cells": [
  {
   "cell_type": "code",
   "execution_count": null,
   "metadata": {},
   "outputs": [],
   "source": [
    "import pandas as pd\n",
    "import requests\n",
    "import urllib3\n",
    "urllib3.disable_warnings(urllib3.exceptions.InsecureRequestWarning)\n",
    "from bs4 import BeautifulSoup\n",
    "from pprint import pprint\n",
    "import re\n",
    "from collections import Counter\n",
    "from bs4 import BeautifulSoup\n",
    "from tqdm.notebook import tqdm"
   ]
  },
  {
   "cell_type": "code",
   "execution_count": null,
   "metadata": {},
   "outputs": [],
   "source": [
    "#ошибочные домены, опечатки\n",
    "mails = ('@gmail.com', '@gmail.ru', '@ya.ru', '@yandex.ru', '@mail.ru', '@bk.ru', '@rambler.ru', '@ro.ru', '@list.ru'\n",
    "        ,'@bank24.ru', '@inbox.ru', '@icloud.com', '@indox.ru', '@me.com', '@e1.ru','@yahoo.com', '@outlook.com'\n",
    "        ,'@ngs.ru', '@hotmail.com', '@live.ru', '@mail.com', '@mail.ri', '@protonmail.com', '@yandex.com', '@yndex.ru'\n",
    "        ,'@gmai.com', '@mail.ry', '@mal.ru', '@yandex.ry', '@hey.com', '@bitrix24.ru', '@qmail.com', '@narod.ru'\n",
    "        ,'@yanbex.ru', '@internet.ru', '@lenta.ru', '@saccount.biz', '@gmail.con', '@moedelo.org', '@gmal.com', '@yandeks.ru'\n",
    "        ,'@live.com', '@yanex.ru', '@jmail.com', '@inbox.lv', '@meil.ru', '@live.com', '@ramler.ru', '@mail.r'\n",
    "        ,'@yandex.r', '@gmail.co', '@yandex.ua', '@sibmail.com', '@mil.ru', '@mail.tu', '@my.com', '@icloud.ru'\n",
    "        ,'@gmail.c', '@ayndex.ru', '@list.ry', '@inbox.com', '@yandex.tu', '@yangex.ru', '@maill.ru', '@gnail.com'\n",
    "        ,'@ymail.com', '@ibox.ru', '@googlemail.com', '@hotmail.ru', '@eandex.ru', '@maii.ru', '@gmil.com', '@nail.ru'\n",
    "        ,'@maul.ru', '@mail.u', '@msil.ru', '@list.tu', '@yandx.ru', '@email.ru','@gmeil.com', '@gmail.kom', '@ramber.ru'\n",
    "        ,'@gmaill.com', '@yahoo.co.uk', '@mail.ua', '@gmsil.com', '@qip.ru', '@tandex.ru', '@yandex.by', '@jandex.ru'\n",
    "        ,'@lnbox.ru', '@ynadex.ru', '@yansex.ru', '@myrambler.ru', '@bk.tu', '@yamdex.ru', '@gimail.com', '@andex.ru'\n",
    "        ,'@vk.ru', '@yandax.ru', '@rambler.ua', '@yahdex.ru', '@yandekx.ru','@yandey.ru', '@gimal.com', '@ua.ru'\n",
    "        ,'@ail.ru', '@bmail.ru', '@iclaud.com', '@ya.ry', '@yandeex.ru', '@nextmail.ru', '@email.com', '@cloud.com'\n",
    "        ,'@ramblel.ru', '@yandexs.ru', '@gmail.om', '@maiil.ru', '@inbox.ry', '@ysndex.ru', '@gamail.com', '@ma.il.ru'\n",
    "        ,'@gail.com', '@dmail.com', '@gmaiil.com', '@yandeх.ru', '@yandrx.ru', '@gmailc.om', '@ramdler.ru', '@yundex.ru'\n",
    "        ,'@iclud.com', '@gmail.cm', '@gmali.com', '@y.ru', '@inbox.r', '@imail.ru', '@rabler.ru', '@imbox.ru', '@unbox.ru'\n",
    "        ,'@mail.eu', '@yanfex.ru', '@mial.ru', '@mall.ru', '@yadex.ru', '@mmail.ru', '@mail.magicwebsolutions.co.uk')"
   ]
  },
  {
   "cell_type": "code",
   "execution_count": null,
   "metadata": {},
   "outputs": [],
   "source": [
    "#делаем запрос в БД\n",
    "request = \"\"\"\n",
    "select * \n",
    "from contacts c\n",
    "where type='e-mail'\n",
    "\"\"\"\n",
    "df = pd.read_sql_query(request, dwh)"
   ]
  },
  {
   "cell_type": "code",
   "execution_count": null,
   "metadata": {},
   "outputs": [],
   "source": [
    "#или можем прочитать csv\n",
    "df = pd.read_csv('emails.csv', sep = ';', encoding='utf8', engine='python')"
   ]
  },
  {
   "cell_type": "code",
   "execution_count": null,
   "metadata": {},
   "outputs": [],
   "source": [
    "domens = {}\n",
    "\n",
    "#при учёте, что у нас есть следующие колонки:\n",
    "#email - адрес электронной почты\n",
    "#id - id организации\n",
    "for row in df.to_dict('records'):\n",
    "    if '@' in row['email']:\n",
    "        if row['email'].lower().strip().endswith(mails)==False:\n",
    "            domen = row['email'].split('@')[1].strip().lower()\n",
    "            if 'mail' not in domen:\n",
    "                if row['id'] not in domens:\n",
    "                    domens.update({row['id']:[domen]})\n",
    "                elif row['id'] in domens and domen not in domens[row['id']]:                                    \n",
    "                    domens[row['id']].append(domen)"
   ]
  },
  {
   "cell_type": "code",
   "execution_count": null,
   "metadata": {},
   "outputs": [],
   "source": [
    "#смотрим, какой домен сколько раз встречается\n",
    "count = []\n",
    "for i in domens.values():\n",
    "    for j in i[0]:\n",
    "        count.append(j)\n",
    "Counter(count).most_common()"
   ]
  },
  {
   "cell_type": "code",
   "execution_count": null,
   "metadata": {},
   "outputs": [],
   "source": [
    "#посмотреть организации с определённым доменом\n",
    "domen = 'mai.ru'\n",
    "for i in domens.values():\n",
    "    if domen in i[0]:\n",
    "        print(i)"
   ]
  },
  {
   "cell_type": "code",
   "execution_count": null,
   "metadata": {},
   "outputs": [],
   "source": [
    "#проверяем на доступность домена - сайта\n",
    "real_domens = []\n",
    "head={'user-agent': 'Mozilla/5.0 (Windows NT 10.0; Win64; x64) AppleWebKit/537.36 (KHTML, like Gecko) Chrome/90.0.4430.212 Safari/537.36'}\n",
    "\n",
    "for domen in tqdm(range(len(domens))):\n",
    "    it = domen\n",
    "    id_c = list(domens)[domen]\n",
    "    id_domens = domens[list(domens)[domen]]\n",
    "    for domen in id_domens: \n",
    "        try:\n",
    "            resp = requests.get(f'https://{domen}', headers=head, verify=False, timeout=10)\n",
    "            #перенаправление на актуальный адрес\n",
    "            location = resp.url\n",
    "            #заголовок\n",
    "            try:\n",
    "                soup = BeautifulSoup(resp.text, 'lxml')\n",
    "                title = soup.find_all('title')[0].text.replace('\\xa0', ' ')\n",
    "                if 'Ð' in title:\n",
    "                    title = title.encode('latin1').decode('utf8')\n",
    "                crakozbr = ['ä','û','ñ','ï','õ','ò','à','â','è','ø','î','á','ð','ü','ó','æ','å','ê','ã','í','ÿ','ì']\n",
    "                if any(e in crakozbr for e in title.lower()):\n",
    "                    title = title.encode('windows-1252').decode('cp1251', errors='ignore')\n",
    "            except: title = ''\n",
    "            real_domens.append([id, domen, location, resp.status_code, ' '.join(title.split())])\n",
    "        except:\n",
    "            try:\n",
    "                resp = requests.get(f'http://{domen}', headers=head, verify=False, timeout=10)\n",
    "                #перенаправление на актуальный адрес\n",
    "                location = resp.url\n",
    "                #заголовок\n",
    "                try:\n",
    "                    soup = BeautifulSoup(resp.text, 'lxml')\n",
    "                    title = soup.find_all('title')[0].text\n",
    "                    if 'Ð' in title:\n",
    "                        title = title.encode('latin1').decode('utf8')\n",
    "                except: title = ''\n",
    "                real_domens.append([id, domen, location, resp.status_code, ' '.join(title.split())])\n",
    "            except: \n",
    "                pass"
   ]
  },
  {
   "cell_type": "code",
   "execution_count": null,
   "metadata": {},
   "outputs": [],
   "source": [
    "domens_shop = ['reg.ru', 'продается домен', 'домен не найден', 'ru-center', 'домен припаркован', 'домен отключен'\n",
    "              ,'ru-tld.ru', 'домен зарегистрирован через «джино»', 'домен продается', 'домен не найден', 'домен не добавлен'\n",
    "              ,'срок регистрации домена закончился', 'домен не прилинкован', 'доменное имя временно заблокировано'\n",
    "              ,'истёк срок регистрации домена', 'срок подключения домена истёк', 'перенаправление домена не осуществляется'\n",
    "              ,'домен временно недоступен', 'присоединить домен заново', 'информация о домене', 'начальная страница домена'\n",
    "              ,'в список поддерживаемых системой управления сайтом', 'домен еще не подключен к вашему сайту'\n",
    "              ,'- домен зарегистрирован', 'срок регистрации домена', 'доступ запрещен', 'доступ к сайту невозможен'\n",
    "              ,'в доступе на страницу отказано', 'в доступе на данную страницу отказано', '403 - ошибка доступа'\n",
    "              ,'сервис недоступен / service unavailable', 'ошибка 403. доступ запрещен', 'сайт недоступен'\n",
    "              ,'сайт в настоящее время недоступен', 'доступ к сайту временно закрыт', 'в доступе на страницу отказано'\n",
    "              ,'403', '404', 'доступ к сайту приостановлен', 'хостинг-провайдер timeweb.ru | мы рады приветствовать вас среди наших клиентов!']\n",
    "\n",
    "not_available = []\n",
    "for i in real_domens.copy():\n",
    "    if 'домен' in i[4].lower() and ('продается' in i[4].lower() or 'продаётся' in i[4].lower()):\n",
    "        real_domens.remove(i)\n",
    "    elif len([word for word in domens_shop if word in i[4].lower()])>0:\n",
    "        real_domens.remove(i)\n",
    "    elif len([word for word in mails if word[1:] in i[1].lower()])>0:\n",
    "        real_domens.remove(i)\n",
    "\n",
    "for i in real_domens.copy():\n",
    "    if i[4] in not_available or i[3] in (400, 401, 404, 403, 402, 412, 502, 503, 501\n",
    "                                        ,520, 521, 523, 525, 499, 426, 423, 451, 999\n",
    "                                        ,428, 405, 410):\n",
    "        real_domens.remove(i)#не уверен, что здесь лучше удалять, а не переносить"
   ]
  },
  {
   "cell_type": "code",
   "execution_count": null,
   "metadata": {},
   "outputs": [],
   "source": [
    "#пишем в датафрейм и csv\n",
    "dfcsv = pd.DataFrame(real_domens, columns=['id', 'domen', 'location', 'status_code', 'title'])\n",
    "dfcsv.to_csv('сайты.csv', index=False)"
   ]
  }
 ],
 "metadata": {
  "kernelspec": {
   "display_name": "Python 3",
   "language": "python",
   "name": "python3"
  },
  "language_info": {
   "codemirror_mode": {
    "name": "ipython",
    "version": 3
   },
   "file_extension": ".py",
   "mimetype": "text/x-python",
   "name": "python",
   "nbconvert_exporter": "python",
   "pygments_lexer": "ipython3",
   "version": "3.8.0"
  }
 },
 "nbformat": 4,
 "nbformat_minor": 4
}
